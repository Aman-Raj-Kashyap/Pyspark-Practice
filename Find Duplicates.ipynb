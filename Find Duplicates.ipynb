{
 "cells": [
  {
   "cell_type": "code",
   "execution_count": 0,
   "metadata": {
    "application/vnd.databricks.v1+cell": {
     "cellMetadata": {
      "byteLimit": 2048000,
      "rowLimit": 10000
     },
     "inputWidgets": {},
     "nuid": "d99c0ab0-4b12-434e-9136-ed5ece33570f",
     "showTitle": false,
     "tableResultSettingsMap": {},
     "title": ""
    }
   },
   "outputs": [],
   "source": [
    "from pyspark.sql.types import StructType,StructField,IntegerType,StringType\n",
    "from pyspark.sql.functions import col,count"
   ]
  },
  {
   "cell_type": "code",
   "execution_count": 0,
   "metadata": {
    "application/vnd.databricks.v1+cell": {
     "cellMetadata": {
      "byteLimit": 2048000,
      "rowLimit": 10000
     },
     "inputWidgets": {},
     "nuid": "1c5e8ce2-1720-43eb-966b-c5992df66d3e",
     "showTitle": false,
     "tableResultSettingsMap": {},
     "title": ""
    }
   },
   "outputs": [],
   "source": [
    "schema = StructType([\n",
    "    StructField(\"emp_id\", IntegerType(), True),\n",
    "    StructField(\"emp_name\", StringType(), True),\n",
    "    StructField(\"emp_gender\", StringType(), True),\n",
    "    StructField(\"emp_age\", IntegerType(), True),\n",
    "    StructField(\"emp_salary\", IntegerType(), True),\n",
    "    StructField(\"emp_manager\", StringType(), True)\n",
    "])\n",
    "\n",
    "data = [\n",
    "    (1, \"Arjun Patel\", \"Male\", 30, 60000, \"Aarav Sharma\"),\n",
    "    (2, \"Aarav Sharma\", \"Male\", 28, 55000, \"Zara Singh\"),\n",
    "    (3, \"Zara Singh\", \"Female\", 35, 70000, \"Arjun Patel\"),\n",
    "    (4, \"Priya Reddy\", \"Female\", 32, 65000, \"Aarav Sharma\"),\n",
    "    (1, \"Arjun Patel\", \"Male\", 30, 60000, \"Aarav Sharma\"),\n",
    "    (6, \"Naina Verma\", \"Female\", 31, 72000, \"Arjun Patel\"),\n",
    "    (1, \"Arjun Patel\", \"Male\", 30, 60000, \"Aarav Sharma\"),\n",
    "    (4, \"Priya Reddy\", \"Female\", 32, 65000, \"Aarav Sharma\"),\n",
    "    (5, \"Aditya Kapoor\", \"Male\", 28, 58000, \"Zara Singh\"),\n",
    "    (10, \"Anaya Joshi\", \"Female\", 27, 59000, \"Aarav Sharma\"),\n",
    "    (11, \"Rohan Malhotra\", \"Male\", 36, 73000, \"Zara Singh\"),\n",
    "    (3, \"Zara Singh\", \"Female\", 35, 70000, \"Arjun Patel\")\n",
    "]"
   ]
  },
  {
   "cell_type": "code",
   "execution_count": 0,
   "metadata": {
    "application/vnd.databricks.v1+cell": {
     "cellMetadata": {
      "byteLimit": 2048000,
      "rowLimit": 10000
     },
     "inputWidgets": {},
     "nuid": "7030709b-6f7f-42e3-8ec4-8d93fd0a1e2c",
     "showTitle": false,
     "tableResultSettingsMap": {},
     "title": ""
    }
   },
   "outputs": [
    {
     "output_type": "stream",
     "name": "stdout",
     "output_type": "stream",
     "text": [
      "+------+------------+----------+-------+----------+------------+\n|emp_id|    emp_name|emp_gender|emp_age|emp_salary| emp_manager|\n+------+------------+----------+-------+----------+------------+\n|     1| Arjun Patel|      Male|     30|     60000|Aarav Sharma|\n|     2|Aarav Sharma|      Male|     28|     55000|  Zara Singh|\n|     3|  Zara Singh|    Female|     35|     70000| Arjun Patel|\n|     4| Priya Reddy|    Female|     32|     65000|Aarav Sharma|\n|     1| Arjun Patel|      Male|     30|     60000|Aarav Sharma|\n+------+------------+----------+-------+----------+------------+\nonly showing top 5 rows\n\n"
     ]
    }
   ],
   "source": [
    "emp_df = spark.createDataFrame(data,schema)\n",
    "\n",
    "emp_df.show(5)"
   ]
  },
  {
   "cell_type": "code",
   "execution_count": 0,
   "metadata": {
    "application/vnd.databricks.v1+cell": {
     "cellMetadata": {
      "byteLimit": 2048000,
      "rowLimit": 10000
     },
     "inputWidgets": {},
     "nuid": "b6e77542-4a4d-4887-a838-b8253fb3153d",
     "showTitle": false,
     "tableResultSettingsMap": {},
     "title": ""
    }
   },
   "outputs": [
    {
     "output_type": "stream",
     "name": "stdout",
     "output_type": "stream",
     "text": [
      "Out[18]: ['emp_id', 'emp_name', 'emp_gender', 'emp_age', 'emp_salary', 'emp_manager']"
     ]
    }
   ],
   "source": [
    "emp_df.columns"
   ]
  },
  {
   "cell_type": "code",
   "execution_count": 0,
   "metadata": {
    "application/vnd.databricks.v1+cell": {
     "cellMetadata": {
      "byteLimit": 2048000,
      "rowLimit": 10000
     },
     "inputWidgets": {},
     "nuid": "ec5039ea-56ea-457b-910a-8c35df43ca24",
     "showTitle": false,
     "tableResultSettingsMap": {},
     "title": ""
    }
   },
   "outputs": [
    {
     "output_type": "stream",
     "name": "stdout",
     "output_type": "stream",
     "text": [
      "+------+-----------+----------+-------+----------+------------+\n|emp_id|   emp_name|emp_gender|emp_age|emp_salary| emp_manager|\n+------+-----------+----------+-------+----------+------------+\n|     1|Arjun Patel|      Male|     30|     60000|Aarav Sharma|\n|     3| Zara Singh|    Female|     35|     70000| Arjun Patel|\n|     4|Priya Reddy|    Female|     32|     65000|Aarav Sharma|\n+------+-----------+----------+-------+----------+------------+\n\n"
     ]
    }
   ],
   "source": [
    "#find duplicate using groupby\n",
    "emp_df_group = emp_df.groupBy(emp_df.columns).count()\n",
    "\n",
    "#filtering on count\n",
    "emp_df_answer = emp_df_group.where(col(\"count\")>1).drop(col(\"count\"))\n",
    "\n",
    "emp_df_answer.show()"
   ]
  },
  {
   "cell_type": "code",
   "execution_count": 0,
   "metadata": {
    "application/vnd.databricks.v1+cell": {
     "cellMetadata": {
      "byteLimit": 2048000,
      "rowLimit": 10000
     },
     "inputWidgets": {},
     "nuid": "97fe8003-daf7-4633-9edd-fd7cc22c9871",
     "showTitle": false,
     "tableResultSettingsMap": {},
     "title": ""
    }
   },
   "outputs": [],
   "source": [
    "from pyspark.sql import Window\n",
    "\n",
    "#find duplicate using window function\n",
    "partition_ = Window.partitionBy(emp_df.columns)"
   ]
  },
  {
   "cell_type": "code",
   "execution_count": 0,
   "metadata": {
    "application/vnd.databricks.v1+cell": {
     "cellMetadata": {
      "byteLimit": 2048000,
      "rowLimit": 10000
     },
     "inputWidgets": {},
     "nuid": "6eb429aa-8ff0-46c2-a7ff-1f7d3fc8bfc4",
     "showTitle": false,
     "tableResultSettingsMap": {},
     "title": ""
    }
   },
   "outputs": [
    {
     "output_type": "stream",
     "name": "stdout",
     "output_type": "stream",
     "text": [
      "+------+--------------+----------+-------+----------+------------+------+\n|emp_id|      emp_name|emp_gender|emp_age|emp_salary| emp_manager|count_|\n+------+--------------+----------+-------+----------+------------+------+\n|     1|   Arjun Patel|      Male|     30|     60000|Aarav Sharma|     3|\n|     1|   Arjun Patel|      Male|     30|     60000|Aarav Sharma|     3|\n|     1|   Arjun Patel|      Male|     30|     60000|Aarav Sharma|     3|\n|     2|  Aarav Sharma|      Male|     28|     55000|  Zara Singh|     1|\n|     3|    Zara Singh|    Female|     35|     70000| Arjun Patel|     2|\n|     3|    Zara Singh|    Female|     35|     70000| Arjun Patel|     2|\n|     4|   Priya Reddy|    Female|     32|     65000|Aarav Sharma|     2|\n|     4|   Priya Reddy|    Female|     32|     65000|Aarav Sharma|     2|\n|     5| Aditya Kapoor|      Male|     28|     58000|  Zara Singh|     1|\n|     6|   Naina Verma|    Female|     31|     72000| Arjun Patel|     1|\n|    10|   Anaya Joshi|    Female|     27|     59000|Aarav Sharma|     1|\n|    11|Rohan Malhotra|      Male|     36|     73000|  Zara Singh|     1|\n+------+--------------+----------+-------+----------+------------+------+\n\n"
     ]
    }
   ],
   "source": [
    "#finding count of each partition by creating a window column\n",
    "\n",
    "emp_df_count = emp_df.withColumn(\"count_\",count(\"emp_id\").over(partition_))\n",
    "emp_df_count.show()"
   ]
  },
  {
   "cell_type": "code",
   "execution_count": 0,
   "metadata": {
    "application/vnd.databricks.v1+cell": {
     "cellMetadata": {
      "byteLimit": 2048000,
      "rowLimit": 10000
     },
     "inputWidgets": {},
     "nuid": "c945546c-161a-4ad3-967c-10aee33749e1",
     "showTitle": false,
     "tableResultSettingsMap": {},
     "title": ""
    }
   },
   "outputs": [
    {
     "output_type": "stream",
     "name": "stdout",
     "output_type": "stream",
     "text": [
      "+------+-----------+----------+-------+----------+------------+\n|emp_id|   emp_name|emp_gender|emp_age|emp_salary| emp_manager|\n+------+-----------+----------+-------+----------+------------+\n|     1|Arjun Patel|      Male|     30|     60000|Aarav Sharma|\n|     3| Zara Singh|    Female|     35|     70000| Arjun Patel|\n|     4|Priya Reddy|    Female|     32|     65000|Aarav Sharma|\n+------+-----------+----------+-------+----------+------------+\n\n"
     ]
    }
   ],
   "source": [
    "#getting record where count is more than 1\n",
    "df_answer = emp_df_count.filter(col(\"count_\")>1)\n",
    "\n",
    "#dropping duplicate cols\n",
    "df_final_answer = df_answer.dropDuplicates().drop(\"count_\")\n",
    "\n",
    "df_final_answer.show()"
   ]
  },
  {
   "cell_type": "code",
   "execution_count": 0,
   "metadata": {
    "application/vnd.databricks.v1+cell": {
     "cellMetadata": {
      "byteLimit": 2048000,
      "rowLimit": 10000
     },
     "inputWidgets": {},
     "nuid": "c4341d00-e14d-4dc5-a511-e07e726cf0d6",
     "showTitle": false,
     "tableResultSettingsMap": {},
     "title": ""
    }
   },
   "outputs": [],
   "source": []
  }
 ],
 "metadata": {
  "application/vnd.databricks.v1+notebook": {
   "dashboards": [],
   "environmentMetadata": null,
   "language": "python",
   "notebookMetadata": {
    "pythonIndentUnit": 4
   },
   "notebookName": "Find Duplicates",
   "widgets": {}
  }
 },
 "nbformat": 4,
 "nbformat_minor": 0
}
