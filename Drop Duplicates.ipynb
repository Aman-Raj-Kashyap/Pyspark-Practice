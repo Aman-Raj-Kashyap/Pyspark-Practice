{
 "cells": [
  {
   "cell_type": "code",
   "execution_count": 0,
   "metadata": {
    "application/vnd.databricks.v1+cell": {
     "cellMetadata": {
      "byteLimit": 2048000,
      "rowLimit": 10000
     },
     "inputWidgets": {},
     "nuid": "d88b850f-ae0f-450f-85d7-72b3a2f3f74b",
     "showTitle": false,
     "tableResultSettingsMap": {},
     "title": ""
    }
   },
   "outputs": [],
   "source": [
    "from pyspark.sql.types import StructType,StructField,IntegerType,StringType\n",
    "from pyspark.sql.functions import col\n",
    "\n",
    "schema = StructType([\n",
    "    StructField(\"emp_id\", IntegerType(), True),\n",
    "    StructField(\"emp_name\", StringType(), True),\n",
    "    StructField(\"emp_gender\", StringType(), True),\n",
    "    StructField(\"emp_age\", IntegerType(), True),\n",
    "    StructField(\"emp_salary\", IntegerType(), True),\n",
    "    StructField(\"emp_manager\", StringType(), True)\n",
    "])\n",
    "\n",
    "data = [\n",
    "    (1, \"Arjun Patel\", \"Male\", 30, 60000, \"Aarav Sharma\"),\n",
    "    (2, \"Aarav Sharma\", \"Male\", 28, 55000, \"Zara Singh\"),\n",
    "    (3, \"Zara Singh\", \"Female\", 35, 70000, \"Arjun Patel\"),\n",
    "    (4, \"Priya Reddy\", \"Female\", 32, 65000, \"Aarav Sharma\"),\n",
    "    (1, \"Arjun Patel\", \"Male\", 30, 60000, \"Aarav Sharma\"),\n",
    "    (6, \"Naina Verma\", \"Female\", 31, 72000, \"Arjun Patel\"),\n",
    "    (1, \"Arjun Patel\", \"Male\", 30, 60000, \"Aarav Sharma\"),\n",
    "    (4, \"Priya Reddy\", \"Female\", 32, 65000, \"Aarav Sharma\"),\n",
    "    (5, \"Aditya Kapoor\", \"Male\", 28, 58000, \"Zara Singh\"),\n",
    "    (10, \"Anaya Joshi\", \"Female\", 27, 59000, \"Aarav Sharma\"),\n",
    "    (11, \"Rohan Malhotra\", \"Male\", 36, 73000, \"Zara Singh\"),\n",
    "    (3, \"Zara Singh\", \"Female\", 35, 70000, \"Arjun Patel\")\n",
    "]"
   ]
  },
  {
   "cell_type": "code",
   "execution_count": 0,
   "metadata": {
    "application/vnd.databricks.v1+cell": {
     "cellMetadata": {
      "byteLimit": 2048000,
      "rowLimit": 10000
     },
     "inputWidgets": {},
     "nuid": "daf2a69d-79b6-4e22-894b-5c6350ec0f6f",
     "showTitle": false,
     "tableResultSettingsMap": {},
     "title": ""
    }
   },
   "outputs": [
    {
     "output_type": "stream",
     "name": "stdout",
     "output_type": "stream",
     "text": [
      "+------+--------------+----------+-------+----------+------------+\n|emp_id|      emp_name|emp_gender|emp_age|emp_salary| emp_manager|\n+------+--------------+----------+-------+----------+------------+\n|     1|   Arjun Patel|      Male|     30|     60000|Aarav Sharma|\n|     2|  Aarav Sharma|      Male|     28|     55000|  Zara Singh|\n|     3|    Zara Singh|    Female|     35|     70000| Arjun Patel|\n|     4|   Priya Reddy|    Female|     32|     65000|Aarav Sharma|\n|     1|   Arjun Patel|      Male|     30|     60000|Aarav Sharma|\n|     6|   Naina Verma|    Female|     31|     72000| Arjun Patel|\n|     1|   Arjun Patel|      Male|     30|     60000|Aarav Sharma|\n|     4|   Priya Reddy|    Female|     32|     65000|Aarav Sharma|\n|     5| Aditya Kapoor|      Male|     28|     58000|  Zara Singh|\n|    10|   Anaya Joshi|    Female|     27|     59000|Aarav Sharma|\n|    11|Rohan Malhotra|      Male|     36|     73000|  Zara Singh|\n|     3|    Zara Singh|    Female|     35|     70000| Arjun Patel|\n+------+--------------+----------+-------+----------+------------+\n\n"
     ]
    }
   ],
   "source": [
    "df = spark.createDataFrame(data=data,schema=schema)\n",
    "\n",
    "df.show()"
   ]
  },
  {
   "cell_type": "markdown",
   "metadata": {
    "application/vnd.databricks.v1+cell": {
     "cellMetadata": {},
     "inputWidgets": {},
     "nuid": "6e9f280d-7ac6-4ade-8b1e-d7e57e48b0dc",
     "showTitle": false,
     "tableResultSettingsMap": {},
     "title": ""
    }
   },
   "source": [
    "\n",
    "Method 1: using dropDuplicates"
   ]
  },
  {
   "cell_type": "code",
   "execution_count": 0,
   "metadata": {
    "application/vnd.databricks.v1+cell": {
     "cellMetadata": {
      "byteLimit": 2048000,
      "rowLimit": 10000
     },
     "inputWidgets": {},
     "nuid": "293f9f41-e7ff-473e-ad47-3739e4de6c97",
     "showTitle": false,
     "tableResultSettingsMap": {},
     "title": ""
    }
   },
   "outputs": [
    {
     "output_type": "stream",
     "name": "stdout",
     "output_type": "stream",
     "text": [
      "+------+--------------+----------+-------+----------+------------+\n|emp_id|      emp_name|emp_gender|emp_age|emp_salary| emp_manager|\n+------+--------------+----------+-------+----------+------------+\n|     1|   Arjun Patel|      Male|     30|     60000|Aarav Sharma|\n|     3|    Zara Singh|    Female|     35|     70000| Arjun Patel|\n|     2|  Aarav Sharma|      Male|     28|     55000|  Zara Singh|\n|     4|   Priya Reddy|    Female|     32|     65000|Aarav Sharma|\n|     6|   Naina Verma|    Female|     31|     72000| Arjun Patel|\n|     5| Aditya Kapoor|      Male|     28|     58000|  Zara Singh|\n|    10|   Anaya Joshi|    Female|     27|     59000|Aarav Sharma|\n|    11|Rohan Malhotra|      Male|     36|     73000|  Zara Singh|\n+------+--------------+----------+-------+----------+------------+\n\n"
     ]
    }
   ],
   "source": [
    "#drop duplicates\n",
    "\n",
    "df_unique = df.dropDuplicates()\n",
    "df_unique.show()"
   ]
  },
  {
   "cell_type": "markdown",
   "metadata": {
    "application/vnd.databricks.v1+cell": {
     "cellMetadata": {
      "byteLimit": 2048000,
      "rowLimit": 10000
     },
     "inputWidgets": {},
     "nuid": "55967890-04a2-4b50-8274-5152571a9c1c",
     "showTitle": false,
     "tableResultSettingsMap": {},
     "title": ""
    }
   },
   "source": [
    "Method 2: using groupBy "
   ]
  },
  {
   "cell_type": "code",
   "execution_count": 0,
   "metadata": {
    "application/vnd.databricks.v1+cell": {
     "cellMetadata": {
      "byteLimit": 2048000,
      "rowLimit": 10000
     },
     "inputWidgets": {},
     "nuid": "6ec6f9c9-f58d-476e-8835-0b803a2e1937",
     "showTitle": false,
     "tableResultSettingsMap": {},
     "title": ""
    }
   },
   "outputs": [
    {
     "output_type": "stream",
     "name": "stdout",
     "output_type": "stream",
     "text": [
      "+------+--------------+----------+-------+----------+------------+\n|emp_id|      emp_name|emp_gender|emp_age|emp_salary| emp_manager|\n+------+--------------+----------+-------+----------+------------+\n|     1|   Arjun Patel|      Male|     30|     60000|Aarav Sharma|\n|     2|  Aarav Sharma|      Male|     28|     55000|  Zara Singh|\n|     3|    Zara Singh|    Female|     35|     70000| Arjun Patel|\n|     4|   Priya Reddy|    Female|     32|     65000|Aarav Sharma|\n|     6|   Naina Verma|    Female|     31|     72000| Arjun Patel|\n|     5| Aditya Kapoor|      Male|     28|     58000|  Zara Singh|\n|    10|   Anaya Joshi|    Female|     27|     59000|Aarav Sharma|\n|    11|Rohan Malhotra|      Male|     36|     73000|  Zara Singh|\n+------+--------------+----------+-------+----------+------------+\n\n"
     ]
    }
   ],
   "source": [
    "df_unique_groupby = df.groupBy(df.columns).count()\n",
    "\n",
    "df_unique_groupby.drop(col(\"count\")).show()"
   ]
  },
  {
   "cell_type": "code",
   "execution_count": 0,
   "metadata": {
    "application/vnd.databricks.v1+cell": {
     "cellMetadata": {},
     "inputWidgets": {},
     "nuid": "b2eba1a9-3667-4694-b75a-700afcf371aa",
     "showTitle": false,
     "tableResultSettingsMap": {},
     "title": ""
    }
   },
   "outputs": [],
   "source": []
  }
 ],
 "metadata": {
  "application/vnd.databricks.v1+notebook": {
   "dashboards": [],
   "environmentMetadata": null,
   "language": "python",
   "notebookMetadata": {
    "pythonIndentUnit": 4
   },
   "notebookName": "Drop Duplicates",
   "widgets": {}
  }
 },
 "nbformat": 4,
 "nbformat_minor": 0
}
